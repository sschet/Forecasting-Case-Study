{
 "cells": [
  {
   "cell_type": "code",
   "execution_count": 1,
   "metadata": {},
   "outputs": [],
   "source": [
    "# Import\n",
    "import pandas as pd\n",
    "import seaborn as sns"
   ]
  },
  {
   "cell_type": "markdown",
   "metadata": {},
   "source": [
    "# Sales Product 1"
   ]
  },
  {
   "cell_type": "code",
   "execution_count": 2,
   "metadata": {},
   "outputs": [],
   "source": [
    "# Read the csv into 'df'\n",
    "df = pd.read_csv('/home/stephen/Downloads/SalesProduct1.csv')"
   ]
  },
  {
   "cell_type": "code",
   "execution_count": 3,
   "metadata": {},
   "outputs": [],
   "source": [
    "# Format the 'Month' column to YYYY-MM-DD & set the 'Month' column data type to 'datetime64[ns]'\n",
    "month_list = list()\n",
    "for x in range(len(df)):\n",
    "    month_list.append(df.iloc[x]['Month'])\n",
    "\n",
    "df2 = pd.DataFrame({'Month': month_list})\n",
    "df2['Month'] = pd.to_datetime(df2['Month']).dt.strftime('%Y-%m-%d')\n",
    "df2['Sales Product 1'] = df['Sales Product 1']\n",
    "\n",
    "df2['Month'] = df2['Month'].astype('datetime64[ns]')\n",
    "\n",
    "# Set the 'Month' column as the index of 'df2'\n",
    "df2.set_index('Month', inplace=True)"
   ]
  },
  {
   "cell_type": "code",
   "execution_count": 5,
   "metadata": {},
   "outputs": [
    {
     "data": {
      "text/plain": [
       "<seaborn.axisgrid.FacetGrid at 0x7f5ee5f13eb0>"
      ]
     },
     "execution_count": 5,
     "metadata": {},
     "output_type": "execute_result"
    },
    {
     "data": {
      "image/png": "[encoded data removed]",
      "text/plain": [
       "<Figure size 473.125x360 with 1 Axes>"
      ]
     },
     "metadata": {
      "needs_background": "light"
     },
     "output_type": "display_data"
    }
   ],
   "source": [
    "# Plot the histogram of the Sales Product 1 data\n",
    "sns.displot(df2)"
   ]
  },
  {
   "cell_type": "markdown",
   "metadata": {},
   "source": [
    "The data is asymmetric, so you should use the Root Mean Squared Error (RMSE) to evaluate the forecast accuracy of Sales Product 1."
   ]
  },
  {
   "cell_type": "markdown",
   "metadata": {},
   "source": [
    "# Sales Product 2"
   ]
  },
  {
   "cell_type": "code",
   "execution_count": 6,
   "metadata": {},
   "outputs": [],
   "source": [
    "# Read the csv into 'df'\n",
    "df = pd.read_csv('/home/stephen/Downloads/SalesProduct2.csv')"
   ]
  },
  {
   "cell_type": "code",
   "execution_count": 7,
   "metadata": {},
   "outputs": [],
   "source": [
    "# Format the 'Month' column to YYYY-MM-DD & set the 'Month' column data type to 'datetime64[ns]'\n",
    "month_list = list()\n",
    "for x in range(len(df)):\n",
    "    month_list.append(df.iloc[x]['Month'])\n",
    "\n",
    "df2 = pd.DataFrame({'Month': month_list})\n",
    "df2['Month'] = pd.to_datetime(df2['Month']).dt.strftime('%Y-%m-%d')\n",
    "df2['Sales Product 1'] = df['Sales Product 2']\n",
    "\n",
    "df2['Month'] = df2['Month'].astype('datetime64[ns]')\n",
    "\n",
    "# Set the 'Month' column as the index of 'df2'\n",
    "df2.set_index('Month', inplace=True)"
   ]
  },
  {
   "cell_type": "code",
   "execution_count": 8,
   "metadata": {},
   "outputs": [
    {
     "data": {
      "text/plain": [
       "<seaborn.axisgrid.FacetGrid at 0x7f5ee5f1fbe0>"
      ]
     },
     "execution_count": 8,
     "metadata": {},
     "output_type": "execute_result"
    },
    {
     "data": {
      "image/png": "[encoded data removed]",
      "text/plain": [
       "<Figure size 473.125x360 with 1 Axes>"
      ]
     },
     "metadata": {
      "needs_background": "light"
     },
     "output_type": "display_data"
    }
   ],
   "source": [
    "# Plot the histogram of the Sales Product 2 data\n",
    "sns.displot(df2)"
   ]
  },
  {
   "cell_type": "markdown",
   "metadata": {},
   "source": [
    "The data is asymmetric, so you should use the Root Mean Squared Error (RMSE) to evaluate the forecast accuracy of Sales Product 2."
   ]
  },
  {
   "cell_type": "markdown",
   "metadata": {},
   "source": [
    "# Sales Product 3"
   ]
  },
  {
   "cell_type": "code",
   "execution_count": 9,
   "metadata": {},
   "outputs": [],
   "source": [
    "# Read the csv into 'df'\n",
    "df = pd.read_csv('/home/stephen/Downloads/SalesProduct3.csv')"
   ]
  },
  {
   "cell_type": "code",
   "execution_count": 10,
   "metadata": {},
   "outputs": [],
   "source": [
    "# Format the 'Month' column to YYYY-MM-DD & set the 'Month' column data type to 'datetime64[ns]'\n",
    "month_list = list()\n",
    "for x in range(len(df)):\n",
    "    month_list.append(df.iloc[x]['Month'])\n",
    "\n",
    "df2 = pd.DataFrame({'Month': month_list})\n",
    "df2['Month'] = pd.to_datetime(df2['Month']).dt.strftime('%Y-%m-%d')\n",
    "df2['Sales Product 1'] = df['Sales Product 3']\n",
    "\n",
    "df2['Month'] = df2['Month'].astype('datetime64[ns]')\n",
    "\n",
    "# Set the 'Month' column as the index of 'df2'\n",
    "df2.set_index('Month', inplace=True)"
   ]
  },
  {
   "cell_type": "code",
   "execution_count": 11,
   "metadata": {},
   "outputs": [
    {
     "data": {
      "text/plain": [
       "<seaborn.axisgrid.FacetGrid at 0x7f5eb79aee80>"
      ]
     },
     "execution_count": 11,
     "metadata": {},
     "output_type": "execute_result"
    },
    {
     "data": {
      "image/png": "[encoded data removed]",
      "text/plain": [
       "<Figure size 473.125x360 with 1 Axes>"
      ]
     },
     "metadata": {
      "needs_background": "light"
     },
     "output_type": "display_data"
    }
   ],
   "source": [
    "# Plot the histogram of the Sales Product 3 data\n",
    "sns.displot(df2)"
   ]
  },
  {
   "cell_type": "markdown",
   "metadata": {},
   "source": [
    "The data is fairly normally distributed, so use the Mean Absolute Error (MAE) to evaluate the forecast accuracy of Sales Product 3."
   ]
  },
  {
   "cell_type": "markdown",
   "metadata": {},
   "source": [
    "# Sales Product 4"
   ]
  },
  {
   "cell_type": "code",
   "execution_count": 12,
   "metadata": {},
   "outputs": [],
   "source": [
    "# Read the csv into 'df'\n",
    "df = pd.read_csv('/home/stephen/Downloads/SalesProduct4.csv')"
   ]
  },
  {
   "cell_type": "code",
   "execution_count": 13,
   "metadata": {},
   "outputs": [],
   "source": [
    "# Format the 'Month' column to YYYY-MM-DD & set the 'Month' column data type to 'datetime64[ns]'\n",
    "month_list = list()\n",
    "for x in range(len(df)):\n",
    "    month_list.append(df.iloc[x]['Month'])\n",
    "\n",
    "df2 = pd.DataFrame({'Month': month_list})\n",
    "df2['Month'] = pd.to_datetime(df2['Month']).dt.strftime('%Y-%m-%d')\n",
    "df2['Sales Product 1'] = df['Sales Product 4']\n",
    "\n",
    "df2['Month'] = df2['Month'].astype('datetime64[ns]')\n",
    "\n",
    "# Set the 'Month' column as the index of 'df2'\n",
    "df2.set_index('Month', inplace=True)"
   ]
  },
  {
   "cell_type": "code",
   "execution_count": 14,
   "metadata": {},
   "outputs": [
    {
     "data": {
      "text/plain": [
       "<seaborn.axisgrid.FacetGrid at 0x7f5eb799e1c0>"
      ]
     },
     "execution_count": 14,
     "metadata": {},
     "output_type": "execute_result"
    },
    {
     "data": {
      "image/png": "[encoded data removed]",
      "text/plain": [
       "<Figure size 473.125x360 with 1 Axes>"
      ]
     },
     "metadata": {
      "needs_background": "light"
     },
     "output_type": "display_data"
    }
   ],
   "source": [
    "# Plot the histogram of the Sales Product 4 data\n",
    "sns.displot(df2)"
   ]
  },
  {
   "cell_type": "markdown",
   "metadata": {},
   "source": [
    "The data is normally distributed, so use the Mean Absolute Error (MAE) to evaluate the forecast accuracy of Sales Product 3."
   ]
  }
 ],
 "metadata": {
  "kernelspec": {
   "display_name": "Python 3",
   "language": "python",
   "name": "python3"
  },
  "language_info": {
   "codemirror_mode": {
    "name": "ipython",
    "version": 3
   },
   "file_extension": ".py",
   "mimetype": "text/x-python",
   "name": "python",
   "nbconvert_exporter": "python",
   "pygments_lexer": "ipython3",
   "version": "3.8.5"
  }
 },
 "nbformat": 4,
 "nbformat_minor": 4
}
